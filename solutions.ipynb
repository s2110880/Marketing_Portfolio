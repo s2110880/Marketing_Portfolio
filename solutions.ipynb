{
 "cells": [
  {
   "cell_type": "code",
   "execution_count": 1,
   "metadata": {},
   "outputs": [],
   "source": [
    "import pandas as pd\n",
    "import statsmodels.api as sm\n"
   ]
  },
  {
   "cell_type": "code",
   "execution_count": 2,
   "metadata": {},
   "outputs": [
    {
     "data": {
      "text/html": [
       "<div>\n",
       "<style scoped>\n",
       "    .dataframe tbody tr th:only-of-type {\n",
       "        vertical-align: middle;\n",
       "    }\n",
       "\n",
       "    .dataframe tbody tr th {\n",
       "        vertical-align: top;\n",
       "    }\n",
       "\n",
       "    .dataframe thead th {\n",
       "        text-align: right;\n",
       "    }\n",
       "</style>\n",
       "<table border=\"1\" class=\"dataframe\">\n",
       "  <thead>\n",
       "    <tr style=\"text-align: right;\">\n",
       "      <th></th>\n",
       "      <th>test</th>\n",
       "      <th>purchase</th>\n",
       "      <th>impressions</th>\n",
       "    </tr>\n",
       "  </thead>\n",
       "  <tbody>\n",
       "    <tr>\n",
       "      <th>0</th>\n",
       "      <td>0</td>\n",
       "      <td>0</td>\n",
       "      <td>1</td>\n",
       "    </tr>\n",
       "    <tr>\n",
       "      <th>1</th>\n",
       "      <td>1</td>\n",
       "      <td>0</td>\n",
       "      <td>1</td>\n",
       "    </tr>\n",
       "    <tr>\n",
       "      <th>2</th>\n",
       "      <td>1</td>\n",
       "      <td>0</td>\n",
       "      <td>1</td>\n",
       "    </tr>\n",
       "    <tr>\n",
       "      <th>3</th>\n",
       "      <td>1</td>\n",
       "      <td>0</td>\n",
       "      <td>2</td>\n",
       "    </tr>\n",
       "    <tr>\n",
       "      <th>4</th>\n",
       "      <td>1</td>\n",
       "      <td>0</td>\n",
       "      <td>6</td>\n",
       "    </tr>\n",
       "    <tr>\n",
       "      <th>...</th>\n",
       "      <td>...</td>\n",
       "      <td>...</td>\n",
       "      <td>...</td>\n",
       "    </tr>\n",
       "    <tr>\n",
       "      <th>19995</th>\n",
       "      <td>0</td>\n",
       "      <td>0</td>\n",
       "      <td>2</td>\n",
       "    </tr>\n",
       "    <tr>\n",
       "      <th>19996</th>\n",
       "      <td>1</td>\n",
       "      <td>0</td>\n",
       "      <td>11</td>\n",
       "    </tr>\n",
       "    <tr>\n",
       "      <th>19997</th>\n",
       "      <td>1</td>\n",
       "      <td>1</td>\n",
       "      <td>1</td>\n",
       "    </tr>\n",
       "    <tr>\n",
       "      <th>19998</th>\n",
       "      <td>0</td>\n",
       "      <td>0</td>\n",
       "      <td>1</td>\n",
       "    </tr>\n",
       "    <tr>\n",
       "      <th>19999</th>\n",
       "      <td>1</td>\n",
       "      <td>0</td>\n",
       "      <td>1</td>\n",
       "    </tr>\n",
       "  </tbody>\n",
       "</table>\n",
       "<p>20000 rows × 3 columns</p>\n",
       "</div>"
      ],
      "text/plain": [
       "       test  purchase  impressions\n",
       "0         0         0            1\n",
       "1         1         0            1\n",
       "2         1         0            1\n",
       "3         1         0            2\n",
       "4         1         0            6\n",
       "...     ...       ...          ...\n",
       "19995     0         0            2\n",
       "19996     1         0           11\n",
       "19997     1         1            1\n",
       "19998     0         0            1\n",
       "19999     1         0            1\n",
       "\n",
       "[20000 rows x 3 columns]"
      ]
     },
     "execution_count": 2,
     "metadata": {},
     "output_type": "execute_result"
    }
   ],
   "source": [
    "df = pd.read_csv(\"CaseData2025.csv\", sep=';')\n",
    "df"
   ]
  },
  {
   "cell_type": "markdown",
   "metadata": {},
   "source": [
    "Ex1"
   ]
  },
  {
   "cell_type": "code",
   "execution_count": 3,
   "metadata": {},
   "outputs": [],
   "source": [
    "treatment_group = df[df['test'] == 1]  # Users who saw the ad\n",
    "control_group = df[df['test'] == 0]  #Users who did not see the ad"
   ]
  },
  {
   "cell_type": "code",
   "execution_count": 4,
   "metadata": {},
   "outputs": [
    {
     "name": "stdout",
     "output_type": "stream",
     "text": [
      "0.03099906629318394\n",
      "0.025412960609911054\n",
      "21.981325863678812\n"
     ]
    }
   ],
   "source": [
    "CR_treatment = treatment_group['purchase'].mean()\n",
    "CR_control = control_group['purchase'].mean()\n",
    "incremental_lift = (CR_treatment - CR_control) / CR_control * 100\n",
    "\n",
    "print(CR_treatment)\n",
    "print(CR_control)\n",
    "print(incremental_lift)"
   ]
  },
  {
   "cell_type": "code",
   "execution_count": 5,
   "metadata": {},
   "outputs": [
    {
     "name": "stdout",
     "output_type": "stream",
     "text": [
      "Optimization terminated successfully.\n",
      "         Current function value: 0.134306\n",
      "         Iterations 8\n",
      "                           Logit Regression Results                           \n",
      "==============================================================================\n",
      "Dep. Variable:               purchase   No. Observations:                20000\n",
      "Model:                          Logit   Df Residuals:                    19998\n",
      "Method:                           MLE   Df Model:                            1\n",
      "Date:                Thu, 27 Mar 2025   Pseudo R-squ.:               0.0006578\n",
      "Time:                        09:14:29   Log-Likelihood:                -2686.1\n",
      "converged:                       True   LL-Null:                       -2687.9\n",
      "Covariance Type:            nonrobust   LLR p-value:                   0.06005\n",
      "==============================================================================\n",
      "                 coef    std err          z      P>|z|      [0.025      0.975]\n",
      "------------------------------------------------------------------------------\n",
      "const         -3.6468      0.101    -36.001      0.000      -3.845      -3.448\n",
      "test           0.2044      0.111      1.841      0.066      -0.013       0.422\n",
      "==============================================================================\n"
     ]
    }
   ],
   "source": [
    "X = sm.add_constant(df[\"test\"])  \n",
    "y = df[\"purchase\"]\n",
    "model = sm.Logit(y, X)\n",
    "result = model.fit()\n",
    "print(result.summary())"
   ]
  },
  {
   "cell_type": "markdown",
   "metadata": {},
   "source": [
    "test coef is 0.2044 ==> exp(0.2044) = 1.23 ==> 23% incremental lift"
   ]
  },
  {
   "cell_type": "markdown",
   "metadata": {},
   "source": [
    "however p-value and R-squared are not the best"
   ]
  },
  {
   "cell_type": "markdown",
   "metadata": {},
   "source": [
    "Ex2"
   ]
  },
  {
   "cell_type": "code",
   "execution_count": null,
   "metadata": {},
   "outputs": [
    {
     "data": {
      "text/plain": [
       "0.025412960609911054"
      ]
     },
     "execution_count": 6,
     "metadata": {},
     "output_type": "execute_result"
    }
   ],
   "source": [
    "#rate of those from control group who bought\n",
    "baseline_conversion_rate = df[df[\"test\"] == 0][\"purchase\"].mean()\n",
    "baseline_conversion_rate"
   ]
  },
  {
   "cell_type": "code",
   "execution_count": 7,
   "metadata": {},
   "outputs": [
    {
     "data": {
      "text/plain": [
       "0.005586105683272887"
      ]
     },
     "execution_count": 7,
     "metadata": {},
     "output_type": "execute_result"
    }
   ],
   "source": [
    "treatment = df[df[\"test\"] == 1][\"purchase\"].mean()\n",
    "lift_in_conversion = treatment - baseline_conversion_rate\n",
    "lift_in_conversion"
   ]
  },
  {
   "cell_type": "markdown",
   "metadata": {},
   "source": [
    "Ex3"
   ]
  },
  {
   "cell_type": "code",
   "execution_count": 8,
   "metadata": {},
   "outputs": [
    {
     "name": "stdout",
     "output_type": "stream",
     "text": [
      "Incremental Conversions: 89.74\n",
      "Incremental Revenue: 26922.24 NOK\n",
      "Advertising Cost: 4564.90 NOK\n",
      "Net Profit: 22357.34 NOK\n",
      "Is the campaign profitable? Yes\n"
     ]
    }
   ],
   "source": [
    "net_contribution_per_purchase = 300 \n",
    "cost_per_1000_impressions = 100\n",
    "\n",
    "def compute_profitability(data):\n",
    "    conversion_rate_treatment = data[data[\"test\"] == 1][\"purchase\"].mean()\n",
    "    conversion_rate_control = data[data[\"test\"] == 0][\"purchase\"].mean()\n",
    "\n",
    "    absolute_lift = conversion_rate_treatment - conversion_rate_control\n",
    "\n",
    "    num_treatment = data[data[\"test\"] == 1].shape[0]\n",
    "    num_control = data[data[\"test\"] == 0].shape[0]\n",
    "\n",
    "    incremental_conversions = absolute_lift * num_treatment\n",
    "    incremental_revenue = incremental_conversions * net_contribution_per_purchase\n",
    "    \n",
    "    total_impressions = data[data[\"test\"] == 1][\"impressions\"].sum()\n",
    "    \n",
    "    advertising_cost = (cost_per_1000_impressions * total_impressions) / 1000\n",
    "    net_profit = incremental_revenue - advertising_cost\n",
    "    \n",
    "    return {\n",
    "        \"incremental_conversions\": incremental_conversions,\n",
    "        \"incremental_revenue\": incremental_revenue,\n",
    "        \"advertising_cost\": advertising_cost,\n",
    "        \"net_profit\": net_profit,\n",
    "        \"profitable\": net_profit > 0\n",
    "    }\n",
    "\n",
    "profitability_results = compute_profitability(df)\n",
    "\n",
    "print(f\"Incremental Conversions: {profitability_results['incremental_conversions']:.2f}\")\n",
    "print(f\"Incremental Revenue: {profitability_results['incremental_revenue']:.2f} NOK\")\n",
    "print(f\"Advertising Cost: {profitability_results['advertising_cost']:.2f} NOK\")\n",
    "print(f\"Net Profit: {profitability_results['net_profit']:.2f} NOK\")\n",
    "print(f\"Is the campaign profitable? {'Yes' if profitability_results['profitable'] else 'No'}\")"
   ]
  },
  {
   "cell_type": "markdown",
   "metadata": {},
   "source": [
    "This gives a net profit of 22,357.34 NOK, confirming that the campaign was profitable.\n",
    "Even with a relatively small absolute lift in conversion, the high profit margin per purchase made the campaign worthwhile."
   ]
  },
  {
   "cell_type": "markdown",
   "metadata": {},
   "source": [
    "Ex4"
   ]
  },
  {
   "cell_type": "code",
   "execution_count": 9,
   "metadata": {},
   "outputs": [
    {
     "name": "stdout",
     "output_type": "stream",
     "text": [
      "Optimization terminated successfully.\n",
      "         Current function value: 0.128307\n",
      "         Iterations 8\n",
      "                           Logit Regression Results                           \n",
      "==============================================================================\n",
      "Dep. Variable:               purchase   No. Observations:                20000\n",
      "Model:                          Logit   Df Residuals:                    19997\n",
      "Method:                           MLE   Df Model:                            2\n",
      "Date:                Thu, 27 Mar 2025   Pseudo R-squ.:                 0.04530\n",
      "Time:                        09:55:53   Log-Likelihood:                -2566.1\n",
      "converged:                       True   LL-Null:                       -2687.9\n",
      "Covariance Type:            nonrobust   LLR p-value:                 1.335e-53\n",
      "===============================================================================\n",
      "                  coef    std err          z      P>|z|      [0.025      0.975]\n",
      "-------------------------------------------------------------------------------\n",
      "const          -3.8466      0.104    -36.998      0.000      -4.050      -3.643\n",
      "test            0.1779      0.113      1.579      0.114      -0.043       0.399\n",
      "impressions     0.0481      0.003     17.438      0.000       0.043       0.054\n",
      "===============================================================================\n"
     ]
    }
   ],
   "source": [
    "X = df[[\"test\", \"impressions\"]]\n",
    "X = sm.add_constant(X)\n",
    "y = df[\"purchase\"]\n",
    "\n",
    "model = sm.Logit(y, X)\n",
    "result = model.fit()\n",
    "print(result.summary())"
   ]
  },
  {
   "cell_type": "markdown",
   "metadata": {},
   "source": [
    "Coefficient for impressions: 0.0481 This is positive, which means: More impressions → higher probability of purchase. For each additional ad impression, the log-odds of purchase increase by 0.0481. This means exposing users to more ads does have a real effect — and the effect is strong and reliable. However, for treatment: coefficient = 0.1779 (positive) P-value = 0.114 → not statistically significant (p > 0.05). This suggests that just being in the treatment group (seeing at least 1 ad) doesn’t have a strong enough effect by itself, but the number of times a user sees the ad does.\n",
    "\n"
   ]
  },
  {
   "cell_type": "markdown",
   "metadata": {},
   "source": [
    "Ex5"
   ]
  },
  {
   "cell_type": "code",
   "execution_count": 11,
   "metadata": {},
   "outputs": [
    {
     "name": "stdout",
     "output_type": "stream",
     "text": [
      "Non-compliant control users: 3935\n",
      "Total control users: 3935\n"
     ]
    }
   ],
   "source": [
    "non_compliant_control = df[(df[\"test\"] == 0) & (df[\"impressions\"] > 0)].shape[0]\n",
    "total_control = df[df[\"test\"] == 0].shape[0]\n",
    "print(f\"Non-compliant control users: {non_compliant_control}\")\n",
    "print(f\"Total control users: {total_control}\")"
   ]
  },
  {
   "cell_type": "code",
   "execution_count": 13,
   "metadata": {},
   "outputs": [
    {
     "data": {
      "text/plain": [
       "0"
      ]
     },
     "execution_count": 13,
     "metadata": {},
     "output_type": "execute_result"
    }
   ],
   "source": [
    "non_compliant_treatment = df[(df[\"test\"] == 1) & (df[\"impressions\"] == 0)].shape[0]\n",
    "non_compliant_treatment\n"
   ]
  },
  {
   "cell_type": "code",
   "execution_count": 14,
   "metadata": {},
   "outputs": [
    {
     "data": {
      "text/plain": [
       "0"
      ]
     },
     "execution_count": 14,
     "metadata": {},
     "output_type": "execute_result"
    }
   ],
   "source": [
    "non_compliant = df[(df[\"impressions\"] == 0)].shape[0]\n",
    "non_compliant"
   ]
  },
  {
   "cell_type": "markdown",
   "metadata": {},
   "source": [
    "Literally everyone got impressions from the adds"
   ]
  },
  {
   "cell_type": "markdown",
   "metadata": {},
   "source": [
    "Ex6"
   ]
  },
  {
   "cell_type": "markdown",
   "metadata": {},
   "source": [
    "Writing blah blah blah"
   ]
  },
  {
   "cell_type": "markdown",
   "metadata": {},
   "source": []
  }
 ],
 "metadata": {
  "kernelspec": {
   "display_name": "base",
   "language": "python",
   "name": "python3"
  },
  "language_info": {
   "codemirror_mode": {
    "name": "ipython",
    "version": 3
   },
   "file_extension": ".py",
   "mimetype": "text/x-python",
   "name": "python",
   "nbconvert_exporter": "python",
   "pygments_lexer": "ipython3",
   "version": "3.12.4"
  }
 },
 "nbformat": 4,
 "nbformat_minor": 2
}
